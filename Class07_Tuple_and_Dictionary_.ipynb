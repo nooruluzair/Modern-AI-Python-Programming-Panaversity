{
  "nbformat": 4,
  "nbformat_minor": 0,
  "metadata": {
    "colab": {
      "provenance": [],
      "authorship_tag": "ABX9TyNJyTXCjQ1z8IwAYD4sfDf7",
      "include_colab_link": true
    },
    "kernelspec": {
      "name": "python3",
      "display_name": "Python 3"
    },
    "language_info": {
      "name": "python"
    }
  },
  "cells": [
    {
      "cell_type": "markdown",
      "metadata": {
        "id": "view-in-github",
        "colab_type": "text"
      },
      "source": [
        "<a href=\"https://colab.research.google.com/github/nooruluzair/Modern-AI-Python-Programming-Panaversity/blob/main/Class07_Tuple_and_Dictionary_.ipynb\" target=\"_parent\"><img src=\"https://colab.research.google.com/assets/colab-badge.svg\" alt=\"Open In Colab\"/></a>"
      ]
    },
    {
      "cell_type": "code",
      "execution_count": null,
      "metadata": {
        "id": "bzVuN7NWZ2Mo"
      },
      "outputs": [],
      "source": []
    },
    {
      "cell_type": "markdown",
      "source": [
        "## Types of Copy\n",
        "- Shallow Copy\n",
        "- Deep copy"
      ],
      "metadata": {
        "id": "87fqzaN5aDe8"
      }
    },
    {
      "cell_type": "code",
      "source": [],
      "metadata": {
        "id": "kzXk5RQ3aP-2"
      },
      "execution_count": null,
      "outputs": []
    },
    {
      "cell_type": "markdown",
      "source": [
        "##Tuple\n",
        "- Sequence Data type\n",
        "- ordered\n",
        "- iterable\n",
        "- immutable\n"
      ],
      "metadata": {
        "id": "fGfrgRBGbTeu"
      }
    },
    {
      "cell_type": "code",
      "source": [
        "num_tuple = (1,2,3,4,5)\n",
        "\n",
        "print(type(num_tuple))\n"
      ],
      "metadata": {
        "colab": {
          "base_uri": "https://localhost:8080/"
        },
        "id": "07sveVQebm99",
        "outputId": "5223ebd9-aa75-4aca-bca5-dc0e97274a0d"
      },
      "execution_count": 1,
      "outputs": [
        {
          "output_type": "stream",
          "name": "stdout",
          "text": [
            "<class 'tuple'>\n"
          ]
        }
      ]
    },
    {
      "cell_type": "code",
      "source": [
        "tuple2 = (1) # If single element we need to add comma at end, otherwise it will be int to python\n",
        "type(tuple2)\n",
        "print(type(tuple2))\n",
        "\n",
        "tuple3 = (1,)\n",
        "type(tuple3)\n",
        "print(tuple3)\n",
        "\n",
        "tuple4 = 2,3,4,5,\n",
        "type(tuple4)\n",
        "print(tuple4)"
      ],
      "metadata": {
        "colab": {
          "base_uri": "https://localhost:8080/"
        },
        "id": "d1cNbK82b4wl",
        "outputId": "dc5f5652-ebf1-4b7c-b93e-2de0af8b6990"
      },
      "execution_count": 4,
      "outputs": [
        {
          "output_type": "stream",
          "name": "stdout",
          "text": [
            "<class 'int'>\n",
            "(1,)\n",
            "(2, 3, 4, 5)\n"
          ]
        }
      ]
    },
    {
      "cell_type": "code",
      "source": [
        "days = ['Mon', 'Tue', 'Wed', 'Thu', 'Fri', 'Sat', 'Sun'] #list square bracket\n",
        "days[0] = \"Sun\"\n",
        "print(days)\n",
        "\n",
        "days = ('Mon', 'Tue', 'Wed', 'Thu', 'Fri', 'Sat', 'Sun') #tuple round bracket or no bracket bracket, #intentional error\n",
        "days[0] = \"Sun\"\n",
        "print(days)\n"
      ],
      "metadata": {
        "colab": {
          "base_uri": "https://localhost:8080/",
          "height": 220
        },
        "id": "2qAL9JaicnRd",
        "outputId": "b91d9932-8512-4f73-f53c-d351201e1c60"
      },
      "execution_count": 9,
      "outputs": [
        {
          "output_type": "stream",
          "name": "stdout",
          "text": [
            "['Sun', 'Tue', 'Wed', 'Thu', 'Fri', 'Sat', 'Sun']\n"
          ]
        },
        {
          "output_type": "error",
          "ename": "TypeError",
          "evalue": "'tuple' object does not support item assignment",
          "traceback": [
            "\u001b[0;31m---------------------------------------------------------------------------\u001b[0m",
            "\u001b[0;31mTypeError\u001b[0m                                 Traceback (most recent call last)",
            "\u001b[0;32m/tmp/ipython-input-303801523.py\u001b[0m in \u001b[0;36m<cell line: 0>\u001b[0;34m()\u001b[0m\n\u001b[1;32m      4\u001b[0m \u001b[0;34m\u001b[0m\u001b[0m\n\u001b[1;32m      5\u001b[0m \u001b[0mdays\u001b[0m \u001b[0;34m=\u001b[0m \u001b[0;34m(\u001b[0m\u001b[0;34m'Mon'\u001b[0m\u001b[0;34m,\u001b[0m \u001b[0;34m'Tue'\u001b[0m\u001b[0;34m,\u001b[0m \u001b[0;34m'Wed'\u001b[0m\u001b[0;34m,\u001b[0m \u001b[0;34m'Thu'\u001b[0m\u001b[0;34m,\u001b[0m \u001b[0;34m'Fri'\u001b[0m\u001b[0;34m,\u001b[0m \u001b[0;34m'Sat'\u001b[0m\u001b[0;34m,\u001b[0m \u001b[0;34m'Sun'\u001b[0m\u001b[0;34m)\u001b[0m \u001b[0;31m#list square bracket\u001b[0m\u001b[0;34m\u001b[0m\u001b[0;34m\u001b[0m\u001b[0m\n\u001b[0;32m----> 6\u001b[0;31m \u001b[0mdays\u001b[0m\u001b[0;34m[\u001b[0m\u001b[0;36m0\u001b[0m\u001b[0;34m]\u001b[0m \u001b[0;34m=\u001b[0m \u001b[0;34m\"Sun\"\u001b[0m\u001b[0;34m\u001b[0m\u001b[0;34m\u001b[0m\u001b[0m\n\u001b[0m\u001b[1;32m      7\u001b[0m \u001b[0mprint\u001b[0m\u001b[0;34m(\u001b[0m\u001b[0mdays\u001b[0m\u001b[0;34m)\u001b[0m\u001b[0;34m\u001b[0m\u001b[0;34m\u001b[0m\u001b[0m\n",
            "\u001b[0;31mTypeError\u001b[0m: 'tuple' object does not support item assignment"
          ]
        }
      ]
    },
    {
      "cell_type": "code",
      "source": [
        "days = ('Mon', 'Tue', 'Wed', 'Thu', 'Fri', 'Sat', 'Sun')\n",
        "print(days[0])"
      ],
      "metadata": {
        "colab": {
          "base_uri": "https://localhost:8080/"
        },
        "id": "tMtYxA4RdrlO",
        "outputId": "a80b6a7b-b6fc-486a-84fa-0596e991674d"
      },
      "execution_count": 13,
      "outputs": [
        {
          "output_type": "stream",
          "name": "stdout",
          "text": [
            "Mon\n"
          ]
        }
      ]
    },
    {
      "cell_type": "code",
      "source": [
        "tuple1 : tuple[int,...]= (1,2,3) #...(elipses mean all numbers are integer)\n",
        "print(id(tuple1))\n",
        "\n",
        "tuple2 : tuple [int]= (1,2,3,4,5,)\n",
        "print(id(tuple2)) #seeing memory address\n"
      ],
      "metadata": {
        "colab": {
          "base_uri": "https://localhost:8080/"
        },
        "id": "jg-ncJINd3w-",
        "outputId": "f5a5dded-5b6d-41bf-edd0-c717e7e6acb7"
      },
      "execution_count": 23,
      "outputs": [
        {
          "output_type": "stream",
          "name": "stdout",
          "text": [
            "133727630930624\n",
            "133727631057088\n"
          ]
        }
      ]
    },
    {
      "cell_type": "code",
      "source": [
        "tuple_methods: list = [method for method in dir(tuple) if not method.startswith(\"__\")] #\n",
        "print(tuple_methods)"
      ],
      "metadata": {
        "colab": {
          "base_uri": "https://localhost:8080/"
        },
        "id": "tNVH8eI-f1Rr",
        "outputId": "9b283a51-63e6-4c77-e5ee-844c5506163e"
      },
      "execution_count": 24,
      "outputs": [
        {
          "output_type": "stream",
          "name": "stdout",
          "text": [
            "['count', 'index']\n"
          ]
        }
      ]
    },
    {
      "cell_type": "code",
      "source": [
        "new_tuple = (1,2,3, [100,200])\n",
        "print(new_tuple)"
      ],
      "metadata": {
        "colab": {
          "base_uri": "https://localhost:8080/"
        },
        "id": "LEQbIjXOgKG7",
        "outputId": "1916a31c-63f8-4602-ccff-010e24cb8ad1"
      },
      "execution_count": 25,
      "outputs": [
        {
          "output_type": "stream",
          "name": "stdout",
          "text": [
            "(1, 2, 3, [100, 200])\n"
          ]
        }
      ]
    },
    {
      "cell_type": "code",
      "source": [
        "new_tuple[3].append(300)\n",
        "print(new_tuple)"
      ],
      "metadata": {
        "colab": {
          "base_uri": "https://localhost:8080/"
        },
        "id": "seOpSBvBgaZz",
        "outputId": "f6a9e619-091b-4f27-858a-79d0307f2ced"
      },
      "execution_count": 26,
      "outputs": [
        {
          "output_type": "stream",
          "name": "stdout",
          "text": [
            "(1, 2, 3, [100, 200, 300])\n"
          ]
        }
      ]
    },
    {
      "cell_type": "markdown",
      "source": [
        "## Hashable"
      ],
      "metadata": {
        "id": "kZJ9j4g0g8CX"
      }
    },
    {
      "cell_type": "code",
      "source": [],
      "metadata": {
        "id": "dnEix7quhA7S"
      },
      "execution_count": null,
      "outputs": []
    },
    {
      "cell_type": "code",
      "source": [
        "new_list = [(9.33,56.99),(10.34,567.8)]\n",
        "new_list[0] = (100,200)\n",
        "print(new_list)"
      ],
      "metadata": {
        "colab": {
          "base_uri": "https://localhost:8080/"
        },
        "id": "ETbYP252hR-T",
        "outputId": "365483d3-2053-4737-d840-6c100dabb4a6"
      },
      "execution_count": 32,
      "outputs": [
        {
          "output_type": "stream",
          "name": "stdout",
          "text": [
            "[(100, 200), (10.34, 567.8)]\n"
          ]
        }
      ]
    },
    {
      "cell_type": "markdown",
      "source": [
        "##Dictionary\n",
        "- key and value\n",
        "- order doesnt matter in dictionary"
      ],
      "metadata": {
        "id": "1UXKNU7GhrTM"
      }
    },
    {
      "cell_type": "code",
      "source": [
        "student_dict = {\n",
        "                \"name\" : \"Noor\", #1st item\n",
        "                \"age\" : 25,\n",
        "                \"course\" : \"Python\"\n",
        "                }\n",
        "                #key : value\n",
        "# student_dict = {key:value,}\n",
        "print(student_dict)\n"
      ],
      "metadata": {
        "colab": {
          "base_uri": "https://localhost:8080/"
        },
        "id": "jcH9l1SViGN7",
        "outputId": "925b4197-4fc8-49fb-c58e-ae646ed48a0d"
      },
      "execution_count": 33,
      "outputs": [
        {
          "output_type": "stream",
          "name": "stdout",
          "text": [
            "{'name': 'Noor', 'age': 25, 'course': 'Python'}\n"
          ]
        }
      ]
    },
    {
      "cell_type": "code",
      "source": [
        "student_dict[\"name\"]"
      ],
      "metadata": {
        "colab": {
          "base_uri": "https://localhost:8080/",
          "height": 36
        },
        "id": "ULa_vlvTkHTh",
        "outputId": "6ef8927f-2102-43e3-f34d-5988a51256cc"
      },
      "execution_count": 34,
      "outputs": [
        {
          "output_type": "execute_result",
          "data": {
            "text/plain": [
              "'Noor'"
            ],
            "application/vnd.google.colaboratory.intrinsic+json": {
              "type": "string"
            }
          },
          "metadata": {},
          "execution_count": 34
        }
      ]
    },
    {
      "cell_type": "code",
      "source": [
        "student_dict[\"name\"] = \"Uzair\"\n",
        "print(student_dict)"
      ],
      "metadata": {
        "colab": {
          "base_uri": "https://localhost:8080/"
        },
        "id": "env3VhS5kYJ7",
        "outputId": "72b468fd-e27b-4a32-958d-bf38681b6875"
      },
      "execution_count": 35,
      "outputs": [
        {
          "output_type": "stream",
          "name": "stdout",
          "text": [
            "{'name': 'Uzair', 'age': 25, 'course': 'Python'}\n"
          ]
        }
      ]
    },
    {
      "cell_type": "code",
      "source": [
        "student_dict = {\n",
        "                \"name\" : \"Noor\",\n",
        "                \"name\" : \"Uzair\",\n",
        "                \"age\" : 25,\n",
        "                \"course\" : \"Python\"\n",
        "                }\n",
        "print(student_dict[\"name\"])\n",
        "print(student_dict)"
      ],
      "metadata": {
        "colab": {
          "base_uri": "https://localhost:8080/"
        },
        "id": "qBPPTB1IkpZD",
        "outputId": "5ff7bbb3-a3a0-462f-a13c-b43f2152be34"
      },
      "execution_count": 44,
      "outputs": [
        {
          "output_type": "stream",
          "name": "stdout",
          "text": [
            "Uzair\n",
            "{'name': 'Uzair', 'age': 25, 'course': 'Python'}\n"
          ]
        }
      ]
    },
    {
      "cell_type": "code",
      "source": [
        "int_dict = {1:100,2:200,3:300}\n",
        "print(int_dict)\n",
        "\n",
        "bool_dict = {True: \"Noor\", False: \"Uzair\"}\n",
        "print(bool_dict)\n"
      ],
      "metadata": {
        "colab": {
          "base_uri": "https://localhost:8080/"
        },
        "id": "nKZLHwKilaOl",
        "outputId": "1cd41c22-3df1-44f1-db63-119d6f211b6b"
      },
      "execution_count": 43,
      "outputs": [
        {
          "output_type": "stream",
          "name": "stdout",
          "text": [
            "{1: 100, 2: 200, 3: 300}\n",
            "{True: 'Noor', False: 'Uzair'}\n"
          ]
        }
      ]
    },
    {
      "cell_type": "code",
      "source": [],
      "metadata": {
        "id": "4an-tT81loao"
      },
      "execution_count": null,
      "outputs": []
    },
    {
      "cell_type": "code",
      "source": [
        "name = \"noor\"\n",
        "print(hash(name))"
      ],
      "metadata": {
        "colab": {
          "base_uri": "https://localhost:8080/"
        },
        "id": "h_Dun6-Vm2pE",
        "outputId": "aa028e89-9887-4212-fd57-16a3d33bac20"
      },
      "execution_count": 46,
      "outputs": [
        {
          "output_type": "stream",
          "name": "stdout",
          "text": [
            "-7572384397917733312\n"
          ]
        }
      ]
    },
    {
      "cell_type": "code",
      "source": [
        "name = \"Noor\"\n",
        "print(hash(name))"
      ],
      "metadata": {
        "colab": {
          "base_uri": "https://localhost:8080/"
        },
        "id": "3vpvfHKEnHnR",
        "outputId": "c6c0666a-c63f-4def-b2e7-502beb5f9522"
      },
      "execution_count": 47,
      "outputs": [
        {
          "output_type": "stream",
          "name": "stdout",
          "text": [
            "9128440443957571280\n"
          ]
        }
      ]
    },
    {
      "cell_type": "code",
      "source": [
        "list_name = [\"ammar\", \"Amamr\"]\n",
        "print(hash(list_name))\n",
        "\n",
        "#dictionary key can have only hashashable/immutable datatypes"
      ],
      "metadata": {
        "id": "lC5AYDsJnOG4"
      },
      "execution_count": null,
      "outputs": []
    },
    {
      "cell_type": "code",
      "source": [
        "new_list = [\"ammar\", \"rehan\", \"Saad\"]\n",
        "new_tuple = (\"ammar\", \"rehan\", \"Saad\")\n",
        "\n",
        "print(\"rehan\" in new_list)\n",
        "\n",
        "print(\"rehan\" in new_tuple)"
      ],
      "metadata": {
        "colab": {
          "base_uri": "https://localhost:8080/"
        },
        "id": "snRA-mr8oQ1I",
        "outputId": "87c6915d-4d35-4de1-9358-dc690c3d2d67"
      },
      "execution_count": 48,
      "outputs": [
        {
          "output_type": "stream",
          "name": "stdout",
          "text": [
            "True\n",
            "True\n"
          ]
        }
      ]
    },
    {
      "cell_type": "code",
      "source": [
        "dict_methods: list = [method for method in dir(dict) if not method.startswith(\"__\")] #\n",
        "print(dict_methods)"
      ],
      "metadata": {
        "colab": {
          "base_uri": "https://localhost:8080/"
        },
        "id": "keUtg1zmpLwS",
        "outputId": "6c485efe-5596-4a4c-d69c-b3175c86db81"
      },
      "execution_count": 50,
      "outputs": [
        {
          "output_type": "stream",
          "name": "stdout",
          "text": [
            "['clear', 'copy', 'fromkeys', 'get', 'items', 'keys', 'pop', 'popitem', 'setdefault', 'update', 'values']\n"
          ]
        }
      ]
    },
    {
      "cell_type": "code",
      "source": [
        "print(new_student_dict.get(\"name\"))"
      ],
      "metadata": {
        "colab": {
          "base_uri": "https://localhost:8080/"
        },
        "id": "TQeN8dL4qBVA",
        "outputId": "e18276a4-3f82-423e-859e-fdc55d51918c"
      },
      "execution_count": 57,
      "outputs": [
        {
          "output_type": "stream",
          "name": "stdout",
          "text": [
            "Uzair\n"
          ]
        }
      ]
    },
    {
      "cell_type": "code",
      "source": [
        "print(new_student_dict.get(\"class\"))\n",
        "\n",
        "print(new_student_dict.get(\"class\", \"Not found\"))\n",
        "\n"
      ],
      "metadata": {
        "colab": {
          "base_uri": "https://localhost:8080/"
        },
        "id": "xvtSZ7pkqSNp",
        "outputId": "57440f2b-0081-4e0b-d01d-1d3a0f7b1411"
      },
      "execution_count": 61,
      "outputs": [
        {
          "output_type": "stream",
          "name": "stdout",
          "text": [
            "None\n",
            "Not found\n"
          ]
        }
      ]
    },
    {
      "cell_type": "code",
      "source": [
        "new_student_dict = {\n",
        "                \"name\" : \"Noor\",\n",
        "                \"name\" : \"Uzair\", #python kept the last one\n",
        "                \"course\" : \"Python\"\n",
        "                  }\n",
        "\n",
        "print(new_student_dict.keys())"
      ],
      "metadata": {
        "colab": {
          "base_uri": "https://localhost:8080/"
        },
        "id": "hXdhu_RNqkc3",
        "outputId": "c156307f-c7dc-4cea-d227-143a70d0a9f6"
      },
      "execution_count": 62,
      "outputs": [
        {
          "output_type": "stream",
          "name": "stdout",
          "text": [
            "dict_keys(['name', 'course'])\n"
          ]
        }
      ]
    },
    {
      "cell_type": "code",
      "source": [
        "new_student_dict = {\n",
        "                \"name\" : \"Noor\",\n",
        "                \"name\" : \"Uzair\", #python kept the last one\n",
        "                \"course\" : \"Python\"\n",
        "                  }\n",
        "\n",
        "print(new_student_dict.values())"
      ],
      "metadata": {
        "colab": {
          "base_uri": "https://localhost:8080/"
        },
        "id": "qP-iz36Tq2TR",
        "outputId": "0ba30614-f911-45d2-b092-76455076ced0"
      },
      "execution_count": 63,
      "outputs": [
        {
          "output_type": "stream",
          "name": "stdout",
          "text": [
            "dict_values(['Uzair', 'Python'])\n"
          ]
        }
      ]
    },
    {
      "cell_type": "code",
      "source": [
        "new_student_dict = {\n",
        "                \"name\" : \"Noor\",\n",
        "                \"name\" : \"Uzair\", #python kept the last one\n",
        "                \"course\" : \"Python\"\n",
        "                  }\n",
        "\n",
        "print(new_student_dict.items())"
      ],
      "metadata": {
        "colab": {
          "base_uri": "https://localhost:8080/"
        },
        "id": "pbXFW2nprH6y",
        "outputId": "45c63441-602f-433d-de37-2c249f709943"
      },
      "execution_count": 64,
      "outputs": [
        {
          "output_type": "stream",
          "name": "stdout",
          "text": [
            "dict_items([('name', 'Uzair'), ('course', 'Python')])\n"
          ]
        }
      ]
    },
    {
      "cell_type": "code",
      "source": [
        "new_student_dict = {\n",
        "                \"name\" : \"Noor\",\n",
        "                \"name\" : \"Uzair\", #python kept the last one\n",
        "                \"course\" : \"Python\"\n",
        "                  }\n",
        "new_student_dict[\"city\"] = \"Islamabad\"\n",
        "print(new_student_dict)"
      ],
      "metadata": {
        "colab": {
          "base_uri": "https://localhost:8080/"
        },
        "id": "AWvggUnZrjvf",
        "outputId": "6d4656f1-ee4b-4a38-8d17-a35ac710880d"
      },
      "execution_count": 66,
      "outputs": [
        {
          "output_type": "stream",
          "name": "stdout",
          "text": [
            "{'name': 'Uzair', 'course': 'Python', 'city': 'Islamabad'}\n"
          ]
        }
      ]
    },
    {
      "cell_type": "code",
      "source": [
        "new_student_dict.update({\"city\" : \"Islamabad\"})\n",
        "print(new_student_dict)"
      ],
      "metadata": {
        "colab": {
          "base_uri": "https://localhost:8080/"
        },
        "id": "xfeGHRU2sM1f",
        "outputId": "89c48960-f97d-44d4-8e87-faaf6337f897"
      },
      "execution_count": 69,
      "outputs": [
        {
          "output_type": "stream",
          "name": "stdout",
          "text": [
            "{'name': 'Uzair', 'course': 'Python', 'city': 'Islamabad'}\n"
          ]
        }
      ]
    },
    {
      "cell_type": "code",
      "source": [
        "new_student_dict.clear()\n",
        "print(new_student_dict)"
      ],
      "metadata": {
        "colab": {
          "base_uri": "https://localhost:8080/"
        },
        "id": "vIo-KFxFshvn",
        "outputId": "be2788e0-e4b8-4d01-bc26-d326f215c05d"
      },
      "execution_count": 70,
      "outputs": [
        {
          "output_type": "stream",
          "name": "stdout",
          "text": [
            "{}\n"
          ]
        }
      ]
    }
  ]
}