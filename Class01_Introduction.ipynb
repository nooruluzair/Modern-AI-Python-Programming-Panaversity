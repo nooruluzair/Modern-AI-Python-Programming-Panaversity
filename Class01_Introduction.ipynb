{
  "nbformat": 4,
  "nbformat_minor": 0,
  "metadata": {
    "colab": {
      "provenance": [],
      "authorship_tag": "ABX9TyNJhLOCKyAqa4EeuKbp+R9u",
      "include_colab_link": true
    },
    "kernelspec": {
      "name": "python3",
      "display_name": "Python 3"
    },
    "language_info": {
      "name": "python"
    }
  },
  "cells": [
    {
      "cell_type": "markdown",
      "metadata": {
        "id": "view-in-github",
        "colab_type": "text"
      },
      "source": [
        "<a href=\"https://colab.research.google.com/github/nooruluzair/Modern-AI-Python-Programming-Panaversity/blob/main/Class01_Introduction.ipynb\" target=\"_parent\"><img src=\"https://colab.research.google.com/assets/colab-badge.svg\" alt=\"Open In Colab\"/></a>"
      ]
    },
    {
      "cell_type": "markdown",
      "source": [],
      "metadata": {
        "id": "S-O1kjiqW-Xw"
      }
    },
    {
      "cell_type": "markdown",
      "source": [],
      "metadata": {
        "id": "hV3AJ-ZoXBCH"
      }
    },
    {
      "cell_type": "markdown",
      "source": [
        "- It was an introduction class from this github repository.\n",
        "\n",
        "https://github.com/panaversity/learn-modern-ai-python/tree/main/00_python_colab/01_introduction_to_python"
      ],
      "metadata": {
        "id": "YzI-2F77XCOo"
      }
    }
  ]
}