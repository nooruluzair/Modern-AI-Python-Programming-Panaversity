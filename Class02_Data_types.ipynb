{
  "nbformat": 4,
  "nbformat_minor": 0,
  "metadata": {
    "colab": {
      "provenance": [],
      "authorship_tag": "ABX9TyNq14vfIwwSEjgUtCXrWY02"
    },
    "kernelspec": {
      "name": "python3",
      "display_name": "Python 3"
    },
    "language_info": {
      "name": "python"
    }
  },
  "cells": [
    {
      "cell_type": "markdown",
      "source": [
        "# This is my First Code Class\n",
        "```\n",
        "\n"
      ],
      "metadata": {
        "id": "QWPAVXk82sD3"
      }
    },
    {
      "cell_type": "code",
      "source": [
        "print(\"hello world\")"
      ],
      "metadata": {
        "colab": {
          "base_uri": "https://localhost:8080/"
        },
        "id": "zNPyjpswz2TT",
        "outputId": "ce419dcc-010a-46ee-b836-9bfe4f24ee28"
      },
      "execution_count": null,
      "outputs": [
        {
          "output_type": "stream",
          "name": "stdout",
          "text": [
            "hello world\n"
          ]
        }
      ]
    },
    {
      "cell_type": "markdown",
      "source": [
        "## Hello World"
      ],
      "metadata": {
        "id": "trf7iQIq2yuT"
      }
    },
    {
      "cell_type": "code",
      "source": [
        "print(\"I am Noor\")"
      ],
      "metadata": {
        "colab": {
          "base_uri": "https://localhost:8080/"
        },
        "id": "z0Bavnlnz8oR",
        "outputId": "b86c7a14-1d36-48cd-ed63-bf7395ae0444"
      },
      "execution_count": null,
      "outputs": [
        {
          "output_type": "stream",
          "name": "stdout",
          "text": [
            "I am Noor\n"
          ]
        }
      ]
    },
    {
      "cell_type": "markdown",
      "source": [
        "## Variables"
      ],
      "metadata": {
        "id": "sxFfJjM12OUg"
      }
    },
    {
      "cell_type": "code",
      "source": [
        "my_name = \"Noor\" # = is an assignment operator\n",
        "print(my_name)\n",
        "print(my_name)\n",
        "print(my_name)"
      ],
      "metadata": {
        "colab": {
          "base_uri": "https://localhost:8080/"
        },
        "id": "CVAGz9VA2Zl8",
        "outputId": "64080652-e784-4f64-9b2d-80926bf4caee"
      },
      "execution_count": null,
      "outputs": [
        {
          "output_type": "stream",
          "name": "stdout",
          "text": [
            "Noor\n",
            "Noor\n",
            "Noor\n"
          ]
        }
      ]
    },
    {
      "cell_type": "code",
      "source": [
        "any_number = 5 #variable has the address where this 5 is stored\n",
        "print(any_number) # here i am referring the memory address.\n"
      ],
      "metadata": {
        "id": "jLd33JB3789W"
      },
      "execution_count": null,
      "outputs": []
    },
    {
      "cell_type": "markdown",
      "source": [
        "## String data type"
      ],
      "metadata": {
        "id": "qnEDL-nx9hF8"
      }
    },
    {
      "cell_type": "code",
      "source": [
        "name = \"My name is Noor\" # single quote and double quote can be used for strings\n",
        "number = '6'\n",
        "type(number)"
      ],
      "metadata": {
        "colab": {
          "base_uri": "https://localhost:8080/"
        },
        "id": "N5kjB0ep9vdd",
        "outputId": "4869c070-bbbc-4f92-fd76-ab305f7996ce"
      },
      "execution_count": null,
      "outputs": [
        {
          "output_type": "execute_result",
          "data": {
            "text/plain": [
              "str"
            ]
          },
          "metadata": {},
          "execution_count": 10
        }
      ]
    },
    {
      "cell_type": "markdown",
      "source": [
        "# Code with Type Annotation/Type Hinting"
      ],
      "metadata": {
        "id": "8M8ln34l-QSc"
      }
    },
    {
      "cell_type": "code",
      "source": [
        "name : str = \"My name is Rehan\"\n",
        "print(name)"
      ],
      "metadata": {
        "colab": {
          "base_uri": "https://localhost:8080/"
        },
        "id": "tNUldtOU-YFF",
        "outputId": "7daae780-01aa-403f-feb3-482bf80f52f6"
      },
      "execution_count": null,
      "outputs": [
        {
          "output_type": "stream",
          "name": "stdout",
          "text": [
            "My name is Rehan\n"
          ]
        }
      ]
    },
    {
      "cell_type": "code",
      "source": [
        "number_1 = 7\n",
        "number_2 = \"5\" #intentionally string given\n",
        "print(number_1 * number_2)"
      ],
      "metadata": {
        "colab": {
          "base_uri": "https://localhost:8080/"
        },
        "id": "icjJ3VXG_KwU",
        "outputId": "72217566-89b1-4f20-9f92-bb2faa8f3c7a"
      },
      "execution_count": null,
      "outputs": [
        {
          "output_type": "stream",
          "name": "stdout",
          "text": [
            "5555555\n"
          ]
        }
      ]
    },
    {
      "cell_type": "code",
      "source": [
        "number_1 : int = 7\n",
        "number_2 : int= 5\n",
        "print(number_1 * number_2)\n",
        "\n",
        "# Type checking is at the the time of writing code\n",
        "# Type check is not done at runtime"
      ],
      "metadata": {
        "colab": {
          "base_uri": "https://localhost:8080/"
        },
        "id": "D3rYpEv0_mhV",
        "outputId": "16420ffd-988d-4875-a0b4-33c7140ae193"
      },
      "execution_count": null,
      "outputs": [
        {
          "output_type": "stream",
          "name": "stdout",
          "text": [
            "35\n"
          ]
        }
      ]
    }
  ]
}